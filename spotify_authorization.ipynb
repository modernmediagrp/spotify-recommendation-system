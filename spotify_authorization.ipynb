{
 "cells": [
  {
   "cell_type": "code",
   "execution_count": 1,
   "id": "0e515877",
   "metadata": {
    "ExecuteTime": {
     "end_time": "2022-01-10T17:12:59.382886Z",
     "start_time": "2022-01-10T17:12:59.202060Z"
    }
   },
   "outputs": [],
   "source": [
    "\"\"\"\n",
    "Define an authorization function to run Spotify API.\n",
    "Utilizing the Tekore (https://github.com/felix-hilden/tekore)\n",
    "to navigate Spotify's API.\n",
    "\"\"\"\n",
    "\n",
    "import tekore as tk\n",
    "\n",
    "def authorize():\n",
    "    client_id = '4eb9684aba474efa92f55be38917497e'\n",
    "    client_secret = '80f447a4ac9a40ef99dac84fc345e3b9'\n",
    "    app_token = tk.request_client_token(client_id, client_secret)\n",
    "    return tk.Spotify(app_token)"
   ]
  }
 ],
 "metadata": {
  "kernelspec": {
   "display_name": "recommend-env",
   "language": "python",
   "name": "recommend-env"
  },
  "language_info": {
   "codemirror_mode": {
    "name": "ipython",
    "version": 3
   },
   "file_extension": ".py",
   "mimetype": "text/x-python",
   "name": "python",
   "nbconvert_exporter": "python",
   "pygments_lexer": "ipython3",
   "version": "3.9.7"
  }
 },
 "nbformat": 4,
 "nbformat_minor": 5
}
